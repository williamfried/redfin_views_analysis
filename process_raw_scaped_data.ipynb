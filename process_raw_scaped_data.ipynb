{
 "cells": [
  {
   "cell_type": "code",
   "execution_count": 1,
   "metadata": {},
   "outputs": [],
   "source": [
    "import datetime\n",
    "\n",
    "import matplotlib.pyplot as plt\n",
    "import numpy as np\n",
    "import pandas as pd"
   ]
  },
  {
   "cell_type": "code",
   "execution_count": 2,
   "metadata": {},
   "outputs": [],
   "source": [
    "import warnings\n",
    "warnings.filterwarnings('ignore')\n",
    "\n",
    "plt.rcParams.update({'font.size': 22})\n",
    "pd.set_option('display.max_rows', None)\n",
    "pd.set_option('display.max_columns', None)\n",
    "pd.options.mode.chained_assignment = None"
   ]
  },
  {
   "cell_type": "code",
   "execution_count": 3,
   "metadata": {},
   "outputs": [
    {
     "data": {
      "text/plain": [
       "0.9993744267177359"
      ]
     },
     "execution_count": 3,
     "metadata": {},
     "output_type": "execute_result"
    }
   ],
   "source": [
    "scraped_df = pd.read_csv('raw_scraped_data.csv')\n",
    "scraped_df_f = scraped_df[scraped_df['raw_history'].notna()]\n",
    "len(scraped_df_f) / len(scraped_df)"
   ]
  },
  {
   "cell_type": "code",
   "execution_count": 4,
   "metadata": {},
   "outputs": [
    {
     "data": {
      "text/plain": [
       "260398"
      ]
     },
     "execution_count": 4,
     "metadata": {},
     "output_type": "execute_result"
    }
   ],
   "source": [
    "len(scraped_df_f)"
   ]
  },
  {
   "cell_type": "code",
   "execution_count": 5,
   "metadata": {},
   "outputs": [
    {
     "data": {
      "text/html": [
       "<div>\n",
       "<style scoped>\n",
       "    .dataframe tbody tr th:only-of-type {\n",
       "        vertical-align: middle;\n",
       "    }\n",
       "\n",
       "    .dataframe tbody tr th {\n",
       "        vertical-align: top;\n",
       "    }\n",
       "\n",
       "    .dataframe thead th {\n",
       "        text-align: right;\n",
       "    }\n",
       "</style>\n",
       "<table border=\"1\" class=\"dataframe\">\n",
       "  <thead>\n",
       "    <tr style=\"text-align: right;\">\n",
       "      <th></th>\n",
       "      <th>external_id</th>\n",
       "      <th>beds</th>\n",
       "      <th>baths</th>\n",
       "      <th>sqft</th>\n",
       "      <th>property_type</th>\n",
       "      <th>raw_history</th>\n",
       "    </tr>\n",
       "  </thead>\n",
       "  <tbody>\n",
       "    <tr>\n",
       "      <th>0</th>\n",
       "      <td>13959615</td>\n",
       "      <td>7</td>\n",
       "      <td>3</td>\n",
       "      <td>-</td>\n",
       "      <td>Multi-Family (2-4 Unit)</td>\n",
       "      <td>[{'event': 'Sold (MLS)', 'date': datetime.date...</td>\n",
       "    </tr>\n",
       "    <tr>\n",
       "      <th>1</th>\n",
       "      <td>13398829</td>\n",
       "      <td>9</td>\n",
       "      <td>3</td>\n",
       "      <td>-</td>\n",
       "      <td>Multi-Family (2-4 Unit)</td>\n",
       "      <td>[{'event': 'Price Changed', 'date': datetime.d...</td>\n",
       "    </tr>\n",
       "    <tr>\n",
       "      <th>2</th>\n",
       "      <td>13236623</td>\n",
       "      <td>6</td>\n",
       "      <td>3</td>\n",
       "      <td>-</td>\n",
       "      <td>Multi-Family (2-4 Unit)</td>\n",
       "      <td>[{'event': 'Contingent', 'date': datetime.date...</td>\n",
       "    </tr>\n",
       "    <tr>\n",
       "      <th>3</th>\n",
       "      <td>17619341</td>\n",
       "      <td>5</td>\n",
       "      <td>2.5</td>\n",
       "      <td>2,880</td>\n",
       "      <td>Single Family Residential</td>\n",
       "      <td>[{'event': 'Sold (Public Records)', 'date': da...</td>\n",
       "    </tr>\n",
       "    <tr>\n",
       "      <th>4</th>\n",
       "      <td>13809758</td>\n",
       "      <td>4</td>\n",
       "      <td>2.5</td>\n",
       "      <td>1,638</td>\n",
       "      <td>Single Family Residential</td>\n",
       "      <td>[{'event': 'Sold (Public Records)', 'date': da...</td>\n",
       "    </tr>\n",
       "  </tbody>\n",
       "</table>\n",
       "</div>"
      ],
      "text/plain": [
       "   external_id beds baths   sqft              property_type  \\\n",
       "0     13959615    7     3      -    Multi-Family (2-4 Unit)   \n",
       "1     13398829    9     3      -    Multi-Family (2-4 Unit)   \n",
       "2     13236623    6     3      -    Multi-Family (2-4 Unit)   \n",
       "3     17619341    5   2.5  2,880  Single Family Residential   \n",
       "4     13809758    4   2.5  1,638  Single Family Residential   \n",
       "\n",
       "                                         raw_history  \n",
       "0  [{'event': 'Sold (MLS)', 'date': datetime.date...  \n",
       "1  [{'event': 'Price Changed', 'date': datetime.d...  \n",
       "2  [{'event': 'Contingent', 'date': datetime.date...  \n",
       "3  [{'event': 'Sold (Public Records)', 'date': da...  \n",
       "4  [{'event': 'Sold (Public Records)', 'date': da...  "
      ]
     },
     "execution_count": 5,
     "metadata": {},
     "output_type": "execute_result"
    }
   ],
   "source": [
    "scraped_df.head()"
   ]
  },
  {
   "cell_type": "code",
   "execution_count": 6,
   "metadata": {},
   "outputs": [],
   "source": [
    "scraped_df_f['raw_history'] = scraped_df_f['raw_history'].apply(lambda x: eval(x))"
   ]
  },
  {
   "cell_type": "code",
   "execution_count": 7,
   "metadata": {},
   "outputs": [],
   "source": [
    "listing_info_df = pd.read_csv('final_redfin_listings_info.csv')\n",
    "listing_info_df['created_date'] = listing_info_df['created_date'].apply(\n",
    "        lambda date: datetime.datetime.strptime(date, '%Y-%m-%d').date())"
   ]
  },
  {
   "cell_type": "code",
   "execution_count": 8,
   "metadata": {},
   "outputs": [],
   "source": [
    "combined_df = listing_info_df.merge(scraped_df_f, on='external_id', how='inner')"
   ]
  },
  {
   "cell_type": "code",
   "execution_count": 9,
   "metadata": {},
   "outputs": [
    {
     "data": {
      "text/plain": [
       "256742"
      ]
     },
     "execution_count": 9,
     "metadata": {},
     "output_type": "execute_result"
    }
   ],
   "source": [
    "len(combined_df)"
   ]
  },
  {
   "cell_type": "code",
   "execution_count": 10,
   "metadata": {},
   "outputs": [
    {
     "data": {
      "text/plain": [
       "264139"
      ]
     },
     "execution_count": 10,
     "metadata": {},
     "output_type": "execute_result"
    }
   ],
   "source": [
    "len(listing_info_df)"
   ]
  },
  {
   "cell_type": "code",
   "execution_count": 11,
   "metadata": {},
   "outputs": [
    {
     "data": {
      "text/plain": [
       "0.9719958052389083"
      ]
     },
     "execution_count": 11,
     "metadata": {},
     "output_type": "execute_result"
    }
   ],
   "source": [
    "len(combined_df) / len(listing_info_df)"
   ]
  },
  {
   "cell_type": "code",
   "execution_count": 12,
   "metadata": {},
   "outputs": [
    {
     "data": {
      "text/html": [
       "<div>\n",
       "<style scoped>\n",
       "    .dataframe tbody tr th:only-of-type {\n",
       "        vertical-align: middle;\n",
       "    }\n",
       "\n",
       "    .dataframe tbody tr th {\n",
       "        vertical-align: top;\n",
       "    }\n",
       "\n",
       "    .dataframe thead th {\n",
       "        text-align: right;\n",
       "    }\n",
       "</style>\n",
       "<table border=\"1\" class=\"dataframe\">\n",
       "  <thead>\n",
       "    <tr style=\"text-align: right;\">\n",
       "      <th></th>\n",
       "      <th>external_id</th>\n",
       "      <th>created_date</th>\n",
       "      <th>address</th>\n",
       "      <th>city</th>\n",
       "      <th>state</th>\n",
       "      <th>zipcode</th>\n",
       "      <th>market_area</th>\n",
       "      <th>null_redfin_price_estimate</th>\n",
       "      <th>buyside_commission_range</th>\n",
       "      <th>created_month_index</th>\n",
       "      <th>price_range</th>\n",
       "      <th>year_built_range</th>\n",
       "      <th>price_difference_pct_range</th>\n",
       "      <th>avg_views_5</th>\n",
       "      <th>avg_views_10</th>\n",
       "      <th>avg_views_30</th>\n",
       "      <th>avg_views_100</th>\n",
       "      <th>avg_views_200</th>\n",
       "      <th>redfin_price_estimate</th>\n",
       "      <th>opendoor</th>\n",
       "      <th>zillow</th>\n",
       "      <th>offerpad</th>\n",
       "      <th>hoa</th>\n",
       "      <th>beds_range</th>\n",
       "      <th>baths_range</th>\n",
       "      <th>sqft_range</th>\n",
       "      <th>property_category_index</th>\n",
       "      <th>brokerage_index</th>\n",
       "      <th>brokerage_listings_pct_range</th>\n",
       "      <th>beds</th>\n",
       "      <th>baths</th>\n",
       "      <th>sqft</th>\n",
       "      <th>property_type</th>\n",
       "      <th>raw_history</th>\n",
       "    </tr>\n",
       "  </thead>\n",
       "  <tbody>\n",
       "    <tr>\n",
       "      <th>0</th>\n",
       "      <td>13663942</td>\n",
       "      <td>2022-01-14</td>\n",
       "      <td>10 Terrace Ln</td>\n",
       "      <td>Des Plaines</td>\n",
       "      <td>IL</td>\n",
       "      <td>60019</td>\n",
       "      <td>Chicago</td>\n",
       "      <td>1</td>\n",
       "      <td>0</td>\n",
       "      <td>7</td>\n",
       "      <td>6</td>\n",
       "      <td>4</td>\n",
       "      <td>1</td>\n",
       "      <td>1888.153755</td>\n",
       "      <td>1684.743534</td>\n",
       "      <td>1518.060252</td>\n",
       "      <td>1231.980749</td>\n",
       "      <td>1049.688773</td>\n",
       "      <td>NaN</td>\n",
       "      <td>0</td>\n",
       "      <td>0</td>\n",
       "      <td>0</td>\n",
       "      <td>0</td>\n",
       "      <td>3</td>\n",
       "      <td>2</td>\n",
       "      <td>1</td>\n",
       "      <td>0</td>\n",
       "      <td>0</td>\n",
       "      <td>8</td>\n",
       "      <td>4</td>\n",
       "      <td>2</td>\n",
       "      <td>1,273</td>\n",
       "      <td>Single Family Residential</td>\n",
       "      <td>[{'event': 'Sold (Public Records)', 'date': 20...</td>\n",
       "    </tr>\n",
       "    <tr>\n",
       "      <th>1</th>\n",
       "      <td>23331416</td>\n",
       "      <td>2021-07-27</td>\n",
       "      <td>208 Meadowbrook Dr</td>\n",
       "      <td>Bolingbrook</td>\n",
       "      <td>IL</td>\n",
       "      <td>60440</td>\n",
       "      <td>Chicago</td>\n",
       "      <td>1</td>\n",
       "      <td>0</td>\n",
       "      <td>1</td>\n",
       "      <td>3</td>\n",
       "      <td>4</td>\n",
       "      <td>1</td>\n",
       "      <td>1243.320956</td>\n",
       "      <td>1097.936268</td>\n",
       "      <td>1113.508900</td>\n",
       "      <td>1262.284556</td>\n",
       "      <td>1204.498678</td>\n",
       "      <td>NaN</td>\n",
       "      <td>0</td>\n",
       "      <td>0</td>\n",
       "      <td>0</td>\n",
       "      <td>0</td>\n",
       "      <td>2</td>\n",
       "      <td>2</td>\n",
       "      <td>3</td>\n",
       "      <td>0</td>\n",
       "      <td>0</td>\n",
       "      <td>8</td>\n",
       "      <td>3</td>\n",
       "      <td>2</td>\n",
       "      <td>1,811</td>\n",
       "      <td>Single Family Residential</td>\n",
       "      <td>[{'event': 'Sold (Public Records)', 'date': 20...</td>\n",
       "    </tr>\n",
       "    <tr>\n",
       "      <th>2</th>\n",
       "      <td>13847488</td>\n",
       "      <td>2021-08-03</td>\n",
       "      <td>303 E Ivy Ln</td>\n",
       "      <td>Arlington Heights</td>\n",
       "      <td>IL</td>\n",
       "      <td>60004</td>\n",
       "      <td>Chicago</td>\n",
       "      <td>1</td>\n",
       "      <td>0</td>\n",
       "      <td>2</td>\n",
       "      <td>6</td>\n",
       "      <td>4</td>\n",
       "      <td>1</td>\n",
       "      <td>860.582481</td>\n",
       "      <td>943.937557</td>\n",
       "      <td>938.306499</td>\n",
       "      <td>1243.650506</td>\n",
       "      <td>1115.046550</td>\n",
       "      <td>NaN</td>\n",
       "      <td>0</td>\n",
       "      <td>0</td>\n",
       "      <td>0</td>\n",
       "      <td>0</td>\n",
       "      <td>2</td>\n",
       "      <td>2</td>\n",
       "      <td>1</td>\n",
       "      <td>0</td>\n",
       "      <td>0</td>\n",
       "      <td>8</td>\n",
       "      <td>3</td>\n",
       "      <td>2</td>\n",
       "      <td>1,540</td>\n",
       "      <td>Single Family Residential</td>\n",
       "      <td>[{'event': 'Sold (Public Records)', 'date': 20...</td>\n",
       "    </tr>\n",
       "    <tr>\n",
       "      <th>3</th>\n",
       "      <td>21765334</td>\n",
       "      <td>2021-11-10</td>\n",
       "      <td>202 Hemlock Ave</td>\n",
       "      <td>Romeoville</td>\n",
       "      <td>IL</td>\n",
       "      <td>60446</td>\n",
       "      <td>Chicago</td>\n",
       "      <td>1</td>\n",
       "      <td>0</td>\n",
       "      <td>5</td>\n",
       "      <td>2</td>\n",
       "      <td>4</td>\n",
       "      <td>1</td>\n",
       "      <td>896.332022</td>\n",
       "      <td>1171.125672</td>\n",
       "      <td>986.257433</td>\n",
       "      <td>896.232247</td>\n",
       "      <td>992.979730</td>\n",
       "      <td>NaN</td>\n",
       "      <td>0</td>\n",
       "      <td>0</td>\n",
       "      <td>0</td>\n",
       "      <td>0</td>\n",
       "      <td>3</td>\n",
       "      <td>2</td>\n",
       "      <td>0</td>\n",
       "      <td>0</td>\n",
       "      <td>0</td>\n",
       "      <td>8</td>\n",
       "      <td>4</td>\n",
       "      <td>2</td>\n",
       "      <td>1,170</td>\n",
       "      <td>Single Family Residential</td>\n",
       "      <td>[{'event': 'Sold (Public Records)', 'date': 20...</td>\n",
       "    </tr>\n",
       "    <tr>\n",
       "      <th>4</th>\n",
       "      <td>13894291</td>\n",
       "      <td>2021-07-20</td>\n",
       "      <td>458 E Carpenter Dr</td>\n",
       "      <td>Palatine</td>\n",
       "      <td>IL</td>\n",
       "      <td>60074</td>\n",
       "      <td>Chicago</td>\n",
       "      <td>1</td>\n",
       "      <td>0</td>\n",
       "      <td>1</td>\n",
       "      <td>7</td>\n",
       "      <td>4</td>\n",
       "      <td>1</td>\n",
       "      <td>923.631107</td>\n",
       "      <td>1012.231276</td>\n",
       "      <td>915.941123</td>\n",
       "      <td>927.873459</td>\n",
       "      <td>803.631951</td>\n",
       "      <td>NaN</td>\n",
       "      <td>0</td>\n",
       "      <td>0</td>\n",
       "      <td>0</td>\n",
       "      <td>0</td>\n",
       "      <td>3</td>\n",
       "      <td>3</td>\n",
       "      <td>4</td>\n",
       "      <td>0</td>\n",
       "      <td>0</td>\n",
       "      <td>8</td>\n",
       "      <td>4</td>\n",
       "      <td>3.5</td>\n",
       "      <td>2,468</td>\n",
       "      <td>Single Family Residential</td>\n",
       "      <td>[{'event': 'Sold (MLS)', 'date': 2021-08-26, '...</td>\n",
       "    </tr>\n",
       "  </tbody>\n",
       "</table>\n",
       "</div>"
      ],
      "text/plain": [
       "   external_id created_date             address               city state  \\\n",
       "0     13663942   2022-01-14       10 Terrace Ln        Des Plaines    IL   \n",
       "1     23331416   2021-07-27  208 Meadowbrook Dr        Bolingbrook    IL   \n",
       "2     13847488   2021-08-03        303 E Ivy Ln  Arlington Heights    IL   \n",
       "3     21765334   2021-11-10     202 Hemlock Ave         Romeoville    IL   \n",
       "4     13894291   2021-07-20  458 E Carpenter Dr           Palatine    IL   \n",
       "\n",
       "   zipcode market_area  null_redfin_price_estimate  buyside_commission_range  \\\n",
       "0    60019     Chicago                           1                         0   \n",
       "1    60440     Chicago                           1                         0   \n",
       "2    60004     Chicago                           1                         0   \n",
       "3    60446     Chicago                           1                         0   \n",
       "4    60074     Chicago                           1                         0   \n",
       "\n",
       "   created_month_index  price_range  year_built_range  \\\n",
       "0                    7            6                 4   \n",
       "1                    1            3                 4   \n",
       "2                    2            6                 4   \n",
       "3                    5            2                 4   \n",
       "4                    1            7                 4   \n",
       "\n",
       "   price_difference_pct_range  avg_views_5  avg_views_10  avg_views_30  \\\n",
       "0                           1  1888.153755   1684.743534   1518.060252   \n",
       "1                           1  1243.320956   1097.936268   1113.508900   \n",
       "2                           1   860.582481    943.937557    938.306499   \n",
       "3                           1   896.332022   1171.125672    986.257433   \n",
       "4                           1   923.631107   1012.231276    915.941123   \n",
       "\n",
       "   avg_views_100  avg_views_200  redfin_price_estimate  opendoor  zillow  \\\n",
       "0    1231.980749    1049.688773                    NaN         0       0   \n",
       "1    1262.284556    1204.498678                    NaN         0       0   \n",
       "2    1243.650506    1115.046550                    NaN         0       0   \n",
       "3     896.232247     992.979730                    NaN         0       0   \n",
       "4     927.873459     803.631951                    NaN         0       0   \n",
       "\n",
       "   offerpad  hoa  beds_range  baths_range  sqft_range  \\\n",
       "0         0    0           3            2           1   \n",
       "1         0    0           2            2           3   \n",
       "2         0    0           2            2           1   \n",
       "3         0    0           3            2           0   \n",
       "4         0    0           3            3           4   \n",
       "\n",
       "   property_category_index  brokerage_index  brokerage_listings_pct_range  \\\n",
       "0                        0                0                             8   \n",
       "1                        0                0                             8   \n",
       "2                        0                0                             8   \n",
       "3                        0                0                             8   \n",
       "4                        0                0                             8   \n",
       "\n",
       "  beds baths   sqft              property_type  \\\n",
       "0    4     2  1,273  Single Family Residential   \n",
       "1    3     2  1,811  Single Family Residential   \n",
       "2    3     2  1,540  Single Family Residential   \n",
       "3    4     2  1,170  Single Family Residential   \n",
       "4    4   3.5  2,468  Single Family Residential   \n",
       "\n",
       "                                         raw_history  \n",
       "0  [{'event': 'Sold (Public Records)', 'date': 20...  \n",
       "1  [{'event': 'Sold (Public Records)', 'date': 20...  \n",
       "2  [{'event': 'Sold (Public Records)', 'date': 20...  \n",
       "3  [{'event': 'Sold (Public Records)', 'date': 20...  \n",
       "4  [{'event': 'Sold (MLS)', 'date': 2021-08-26, '...  "
      ]
     },
     "execution_count": 12,
     "metadata": {},
     "output_type": "execute_result"
    }
   ],
   "source": [
    "combined_df.head()"
   ]
  },
  {
   "cell_type": "code",
   "execution_count": 13,
   "metadata": {},
   "outputs": [],
   "source": [
    "def get_event_type(text):\n",
    "    if any(phrase in text for phrase in {'Pending', 'Under Contract', 'Contingent'}):\n",
    "        return 'pending'\n",
    "    if 'Sold' in text:\n",
    "        return 'sold'\n",
    "    if any(phrase in text for phrase in {'Listed', 'Relisted'}):\n",
    "        return 'listed'\n",
    "    if 'Listing Removed' in text:\n",
    "        return 'listing_removed'\n",
    "    if 'Coming Soon' in text:\n",
    "        return 'coming_soon'\n",
    "    return None"
   ]
  },
  {
   "cell_type": "code",
   "execution_count": 14,
   "metadata": {},
   "outputs": [],
   "source": [
    "def get_listing_history(row):\n",
    "    redfin_events = row['raw_history']\n",
    "    scraped_date = row['created_date']\n",
    "    \n",
    "    event_type_to_date = {}\n",
    "    event_lst = []\n",
    "    subtract_from_dom = 0\n",
    "    sale_price = None\n",
    "    for i, redfin_event in enumerate(redfin_events):\n",
    "        event_type = get_event_type(redfin_event['event'])\n",
    "        event_date = redfin_event['date']\n",
    "\n",
    "        # If the listing was scarped after the sale date, it must be that this sale date \n",
    "        # is referring to a previous transaction of the given property\n",
    "        if event_type == 'sold' and scraped_date > event_date:\n",
    "            return ['no_sale'] * 6\n",
    "        \n",
    "        # similarly, if the listing was scraped more than 9 days after the listing went under contract,\n",
    "        # this pending date is almost certaintly referring to a previous transaction of the given property \n",
    "        if event_type == 'pending' and scraped_date > event_date + datetime.timedelta(days=9):\n",
    "            return ['no_sale'] * 6\n",
    "\n",
    "        if event_type == 'sold':\n",
    "            event_type_to_date = {}\n",
    "            event_lst = []\n",
    "            sale_price = redfin_event.get('price')\n",
    "\n",
    "        if event_type in {'sold', 'pending'}:\n",
    "            event_type_to_date[event_type] = event_date\n",
    "\n",
    "        coming_soon_scenario = False\n",
    "        \n",
    "        # check if listing was scraped while the listing was in the coming soon phase\n",
    "        try:\n",
    "            for j in [1, 2]:\n",
    "                next_event = redfin_events[i + j]\n",
    "                next_event_type = get_event_type(next_event['event'])\n",
    "                if next_event_type == 'coming_soon':\n",
    "                    coming_soon_date = next_event['date']\n",
    "                    if scraped_date >= coming_soon_date:\n",
    "                        coming_soon_scenario = True\n",
    "                        break\n",
    "                        \n",
    "        except IndexError:\n",
    "            pass\n",
    "        \n",
    "        # check that the listing was scraped while the listing was in the coming soon phase \n",
    "        if event_type == 'listed' and (scraped_date >= event_date or coming_soon_scenario):\n",
    "            # check that the given listing went under contract and ended up selling within 120 days of going\n",
    "            # under contract\n",
    "            if (all(event_type in event_type_to_date for event_type in {'sold', 'pending'}) and\n",
    "                (event_type_to_date['sold'] - event_type_to_date['pending']).days < 120):\n",
    "                list_date = event_date\n",
    "                list_to_pending_days = (event_type_to_date['pending'] - list_date).days + 1\n",
    "\n",
    "                removed_df = pd.DataFrame(event_lst, columns=['event', 'date'])\n",
    "                \n",
    "                # check if property was delisted and, if so, calculate the number of days it was delisted\n",
    "                unique_events = set(removed_df['event'])\n",
    "                if all(event in unique_events for event in {'listed', 'listing_removed'}):\n",
    "                    removed_df = removed_df.sort_values('date').reset_index(drop=True)\n",
    "                    order_of_events = ['listing_removed', 'listed']\n",
    "                    \n",
    "                    # only consider times when property was delisted between list date and pending date\n",
    "                    removed_df = removed_df[(list_date < removed_df['date']) & \n",
    "                                            (removed_df['date'] < event_type_to_date['pending'])]\n",
    "                    \n",
    "                    # iterate through each time the property was delisted\n",
    "                    nrow = len(removed_df)\n",
    "                    if nrow % 2 == 0:\n",
    "                        for i in range(int(nrow / 2)):\n",
    "                            df_f = removed_df.iloc[2 * i: 2 * i + 2]\n",
    "                            events = list(df_f['event'])\n",
    "                            if events == order_of_events:\n",
    "                                dates = list(df_f['date'])\n",
    "                                subtract_from_dom += (dates[1] - dates[0]).days\n",
    "\n",
    "                dom = list_to_pending_days - subtract_from_dom\n",
    "                \n",
    "                return [list_date, event_type_to_date['pending'], event_type_to_date['sold'], \n",
    "                        list_to_pending_days, dom, sale_price]\n",
    "            \n",
    "        elif event_type in {'listed', 'listing_removed'}:\n",
    "            event_lst.append([event_type, event_date])\n",
    "    \n",
    "    return ['no_sale'] * 6 "
   ]
  },
  {
   "cell_type": "code",
   "execution_count": 15,
   "metadata": {},
   "outputs": [],
   "source": [
    "new_cols = ['list_date', 'pending_date', 'sale_date', 'list_to_pending_days', 'dom', 'sale_price']\n",
    "\n",
    "combined_df[new_cols] = combined_df.apply(get_listing_history, axis=1, result_type='expand')"
   ]
  },
  {
   "cell_type": "code",
   "execution_count": 16,
   "metadata": {},
   "outputs": [],
   "source": [
    "def get_days_until_sale(row):\n",
    "    \n",
    "    scraped_date = row['created_date']\n",
    "    redfin_events = row['raw_history']\n",
    "    \n",
    "    was_listed = False\n",
    "    \n",
    "    for redfin_event in redfin_events:\n",
    "        event_type = get_event_type(redfin_event['event'])\n",
    "        event_date = redfin_event['date']\n",
    "        \n",
    "        # check that the listing was scraped within 30 days of the property being listed\n",
    "        if event_type == 'listed' and abs((event_date - scraped_date).days) < 30:\n",
    "            was_listed = True\n",
    "            break\n",
    "    \n",
    "    # if the property was never listed, we exclude it from the analysis\n",
    "    if not was_listed:\n",
    "        return None\n",
    "    \n",
    "    sold_date = None\n",
    "    \n",
    "    for redfin_event in redfin_events:\n",
    "        event_type = get_event_type(redfin_event['event'])\n",
    "        event_date = redfin_event['date']\n",
    "\n",
    "        if event_type == 'sold':\n",
    "            sold_date = event_date\n",
    "            \n",
    "            # If the listing was scarped after the sale date, it must be that this sale date \n",
    "            # is referring to a previous transaction of the given property\n",
    "            if scraped_date > sold_date:\n",
    "                return 'no_sale'\n",
    "            \n",
    "        if event_type == 'listed' and scraped_date >= event_date:\n",
    "            if sold_date is None:\n",
    "                return 'no_sale'\n",
    "            return (sold_date - event_date).days\n",
    "    \n",
    "    return 'no_sale'"
   ]
  },
  {
   "cell_type": "code",
   "execution_count": 17,
   "metadata": {},
   "outputs": [],
   "source": [
    "combined_df['days_until_sale'] = combined_df.apply(get_days_until_sale, axis=1)"
   ]
  },
  {
   "cell_type": "code",
   "execution_count": 18,
   "metadata": {},
   "outputs": [],
   "source": [
    "days_to_sell_threshold = 120\n",
    "\n",
    "def did_home_sell(days_until_sale):\n",
    "    if pd.isnull(days_until_sale):\n",
    "        return None\n",
    "    if days_until_sale == 'no_sale':\n",
    "        return 0\n",
    "    return int(days_until_sale < days_to_sell_threshold)"
   ]
  },
  {
   "cell_type": "code",
   "execution_count": 19,
   "metadata": {},
   "outputs": [],
   "source": [
    "combined_df['home_sold'] = combined_df['days_until_sale'].apply(did_home_sell)"
   ]
  },
  {
   "cell_type": "code",
   "execution_count": 20,
   "metadata": {},
   "outputs": [
    {
     "data": {
      "text/plain": [
       "1.0    0.701338\n",
       "0.0    0.229308\n",
       "NaN    0.069354\n",
       "Name: home_sold, dtype: float64"
      ]
     },
     "execution_count": 20,
     "metadata": {},
     "output_type": "execute_result"
    }
   ],
   "source": [
    "combined_df['home_sold'].value_counts(dropna=False) / len(combined_df)"
   ]
  },
  {
   "cell_type": "code",
   "execution_count": 21,
   "metadata": {},
   "outputs": [
    {
     "data": {
      "text/plain": [
       "(256742, 41)"
      ]
     },
     "execution_count": 21,
     "metadata": {},
     "output_type": "execute_result"
    }
   ],
   "source": [
    "final_df = combined_df.drop(columns=['raw_history'])\n",
    "final_df.shape"
   ]
  },
  {
   "cell_type": "code",
   "execution_count": 22,
   "metadata": {},
   "outputs": [],
   "source": [
    "final_df.to_csv('sale_outcome_info.csv', index=False)"
   ]
  },
  {
   "cell_type": "code",
   "execution_count": null,
   "metadata": {},
   "outputs": [],
   "source": []
  }
 ],
 "metadata": {
  "kernelspec": {
   "display_name": "Python 3 (ipykernel)",
   "language": "python",
   "name": "python3"
  },
  "language_info": {
   "codemirror_mode": {
    "name": "ipython",
    "version": 3
   },
   "file_extension": ".py",
   "mimetype": "text/x-python",
   "name": "python",
   "nbconvert_exporter": "python",
   "pygments_lexer": "ipython3",
   "version": "3.8.6"
  }
 },
 "nbformat": 4,
 "nbformat_minor": 4
}
